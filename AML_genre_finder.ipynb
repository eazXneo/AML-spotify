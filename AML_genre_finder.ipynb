{
 "cells": [
  {
   "cell_type": "code",
   "execution_count": 1,
   "metadata": {},
   "outputs": [],
   "source": [
    "import pandas as pd\n",
    "import csv\n",
    "import requests\n",
    "from bs4 import BeautifulSoup\n",
    "import re\n",
    "import json\n",
    "from tqdm import tqdm  \n",
    "import time \n",
    "from datetime import datetime\n",
    "from selenium import webdriver \n",
    "import fake_useragent\n",
    "from selenium.webdriver.common.by import By\n",
    "from selenium.webdriver.common.desired_capabilities import DesiredCapabilities"
   ]
  },
  {
   "cell_type": "markdown",
   "metadata": {},
   "source": [
    "This file is used to get genre information from www.chosic.com/music-genre-finder/. Unfortunately I got blocked by the website due to high frequency web crawler. So if anyone still wants to get the data. Feel free to have a go."
   ]
  },
  {
   "cell_type": "code",
   "execution_count": 2,
   "metadata": {},
   "outputs": [],
   "source": [
    "df=pd.read_csv(r'C:\\Users\\Windows\\Desktop\\Spotify_Dataset_V3.csv',delimiter=';')\n",
    "df_noURL=df.iloc[:,0:-1]\n",
    "url=df.iloc[:,-1]\n",
    "Songs = df.loc[:,['Title','Artists','Danceability','Energy','Loudness','Speechiness','Acousticness','Instrumentalness','Valence','Song URL']]\n",
    "Songs = Songs.drop_duplicates(subset=['Title','Artists'])\n",
    "Songs = Songs.iloc[:,[0,1,-1]]\n",
    "Songs = Songs.reset_index(drop=True)\n",
    "Songs['genre']=''"
   ]
  },
  {
   "cell_type": "code",
   "execution_count": 23,
   "metadata": {},
   "outputs": [],
   "source": [
    "chrome_options = webdriver.ChromeOptions()\n",
    "'''chrome_options.add_argument(\"--window-size=1920,1080\")\n",
    "chrome_options.add_argument(\"--disable-extensions\")\n",
    "chrome_options.add_argument(\"--headless\")\n",
    "chrome_options.add_argument(\"--disable-gpu\")\n",
    "chrome_options.add_argument(\"--disable-software-rasterizer\")\n",
    "chrome_options.add_argument('--no-sandbox')\n",
    "chrome_options.add_argument('--ignore-certificate-errors')\n",
    "chrome_options.add_argument('--allow-running-insecure-content')\n",
    "chrome_options.add_argument(\"blink-settings=imagesEnabled=false\")'''\n",
    "#ua = UserAgent()\n",
    "ua = fake_useragent.UserAgent()\n",
    "chrome_options.add_argument(f'--user-agent={ua.random}')\n",
    "driver = webdriver.Chrome(options=chrome_options)"
   ]
  },
  {
   "cell_type": "code",
   "execution_count": 8,
   "metadata": {},
   "outputs": [
    {
     "name": "stderr",
     "output_type": "stream",
     "text": [
      "  0%|                                                                                           | 0/30 [00:00<?, ?it/s]\n"
     ]
    },
    {
     "ename": "NameError",
     "evalue": "name 'genre1' is not defined",
     "output_type": "error",
     "traceback": [
      "\u001b[1;31m---------------------------------------------------------------------------\u001b[0m",
      "\u001b[1;31mNameError\u001b[0m                                 Traceback (most recent call last)",
      "\u001b[1;32m<ipython-input-8-0fbbc7a8104b>\u001b[0m in \u001b[0;36m<module>\u001b[1;34m\u001b[0m\n\u001b[0;32m     19\u001b[0m             \u001b[1;32mif\u001b[0m \u001b[0mattempts\u001b[0m \u001b[1;33m==\u001b[0m \u001b[1;36m3\u001b[0m\u001b[1;33m:\u001b[0m\u001b[1;33m\u001b[0m\u001b[1;33m\u001b[0m\u001b[0m\n\u001b[0;32m     20\u001b[0m                 \u001b[1;32mbreak\u001b[0m\u001b[1;33m\u001b[0m\u001b[1;33m\u001b[0m\u001b[0m\n\u001b[1;32m---> 21\u001b[1;33m     \u001b[0mSongs\u001b[0m\u001b[1;33m.\u001b[0m\u001b[0miloc\u001b[0m\u001b[1;33m[\u001b[0m\u001b[0mi\u001b[0m\u001b[1;33m,\u001b[0m\u001b[1;33m-\u001b[0m\u001b[1;36m1\u001b[0m\u001b[1;33m]\u001b[0m\u001b[1;33m=\u001b[0m\u001b[0mgenre1\u001b[0m\u001b[1;33m\u001b[0m\u001b[1;33m\u001b[0m\u001b[0m\n\u001b[0m\u001b[0;32m     22\u001b[0m     \u001b[0mprint\u001b[0m\u001b[1;33m(\u001b[0m\u001b[0mgenre1\u001b[0m\u001b[1;33m)\u001b[0m\u001b[1;33m\u001b[0m\u001b[1;33m\u001b[0m\u001b[0m\n\u001b[0;32m     23\u001b[0m     \u001b[1;31m#print(genre1)\u001b[0m\u001b[1;33m\u001b[0m\u001b[1;33m\u001b[0m\u001b[1;33m\u001b[0m\u001b[0m\n",
      "\u001b[1;31mNameError\u001b[0m: name 'genre1' is not defined"
     ]
    }
   ],
   "source": [
    "driver_count=0\n",
    "error_count=0\n",
    "for i in tqdm(range(Songs.shape[0])):\n",
    "    #ua = fake_useragent.UserAgent()\n",
    "    #chrome_options.add_argument(f'--user-agent={ua.random}')\n",
    "    #driver = webdriver.Chrome(options=chrome_options)\n",
    "    song_url=Songs.iloc[i,2]\n",
    "    driver.get(\"https://www.chosic.com/music-genre-finder/?track=\"+song_url[31:])\n",
    "    #search_box.send_keys(\"Selenium Python\")\n",
    "    #spotify-tags > div > div.pl-tags.tagcloud > a:nth-child(1)\n",
    "    attempts = 0\n",
    "    success = False\n",
    "    while attempts < 3 and not success:\n",
    "        try:\n",
    "            genre1 = driver.find_element(By.CSS_SELECTOR,'#spotify-tags > div > div.pl-tags.tagcloud > a:nth-child(1)').text\n",
    "            success = True\n",
    "        except:\n",
    "            attempts += 1\n",
    "            if attempts == 3:\n",
    "                break\n",
    "    Songs.iloc[i,-1]=genre1\n",
    "    print(genre1)\n",
    "    #print(genre1)\n",
    "    time.sleep(0.5)\n",
    "    driver_count+=1\n",
    "    if driver_count==100:\n",
    "        driver.quit()\n",
    "        ua = fake_useragent.UserAgent()\n",
    "        chrome_options.add_argument(f'--user-agent={ua.random}')\n",
    "        driver = webdriver.Chrome(options=chrome_options)\n",
    "        driver_count=0\n",
    "        time.sleep(1)\n",
    "    #driver.quit()"
   ]
  }
 ],
 "metadata": {
  "kernelspec": {
   "display_name": "Python 3",
   "language": "python",
   "name": "python3"
  },
  "language_info": {
   "codemirror_mode": {
    "name": "ipython",
    "version": 3
   },
   "file_extension": ".py",
   "mimetype": "text/x-python",
   "name": "python",
   "nbconvert_exporter": "python",
   "pygments_lexer": "ipython3",
   "version": "3.8.5"
  }
 },
 "nbformat": 4,
 "nbformat_minor": 4
}
